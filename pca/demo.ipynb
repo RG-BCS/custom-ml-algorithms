{
  "nbformat": 4,
  "nbformat_minor": 0,
  "metadata": {
    "colab": {
      "provenance": []
    },
    "kernelspec": {
      "name": "python3",
      "display_name": "Python 3"
    },
    "language_info": {
      "name": "python"
    }
  },
  "cells": [
    {
      "cell_type": "markdown",
      "source": [
        "# PCA from Scratch vs Sklearn\n",
        "\n",
        "In this notebook, we demonstrate a Principal Component Analysis (PCA) implementation using NumPy and compare it with `scikit-learn`'s PCA.\n",
        "\n",
        "---\n",
        "\n",
        "### Objectives\n",
        "\n",
        "- Understand the PCA algorithm step-by-step\n",
        "- Implement PCA from scratch\n",
        "- Visualize explained variance\n",
        "- Compare projections from custom vs `sklearn` PCA\n"
      ],
      "metadata": {
        "id": "bLKq0XRSFmuM"
      }
    },
    {
      "cell_type": "markdown",
      "source": [
        "**Library Imports**"
      ],
      "metadata": {
        "id": "mzuZWyenFxYq"
      }
    },
    {
      "cell_type": "code",
      "source": [
        "import numpy as np\n",
        "import matplotlib.pyplot as plt\n",
        "from sklearn.datasets import load_wine\n",
        "from sklearn.model_selection import train_test_split\n",
        "from sklearn.preprocessing import StandardScaler\n",
        "from sklearn.decomposition import PCA as SklearnPCA\n",
        "from pca import PCAFromScratch"
      ],
      "metadata": {
        "id": "YrRzMRqQFo9J"
      },
      "execution_count": null,
      "outputs": []
    },
    {
      "cell_type": "markdown",
      "source": [
        "**## 1. Load and Standardize the Wine Dataset\n",
        "**"
      ],
      "metadata": {
        "id": "HCJOXjJZF4vp"
      }
    },
    {
      "cell_type": "code",
      "source": [
        "X, y = load_wine(return_X_y=True)\n",
        "x_train, x_test, y_train, y_test = train_test_split(X, y, test_size=0.3, stratify=y, random_state=42)\n",
        "\n",
        "scaler = StandardScaler()\n",
        "x_train_sd = scaler.fit_transform(x_train)\n",
        "x_test_sd = scaler.transform(x_test)"
      ],
      "metadata": {
        "id": "RexsoZSGGD2O"
      },
      "execution_count": null,
      "outputs": []
    },
    {
      "cell_type": "markdown",
      "source": [
        "**## 2. Apply PCA from Scratch\n",
        "We compute the eigenvectors and eigenvalues of the covariance matrix of the standardized data.\n",
        "**"
      ],
      "metadata": {
        "id": "LgBFJdeZGMiD"
      }
    },
    {
      "cell_type": "code",
      "source": [
        "pca_scratch = PCAFromScratch(n_components=2)\n",
        "x_train_pca = pca_scratch.fit_transform(x_train_sd)"
      ],
      "metadata": {
        "id": "fJ_LhcYpGQwO"
      },
      "execution_count": null,
      "outputs": []
    },
    {
      "cell_type": "markdown",
      "source": [
        "## 3. Explained Variance (Custom PCA)\n",
        "\n",
        "Let's examine the amount of variance captured by each of the two components.\n"
      ],
      "metadata": {
        "id": "X8yYA0KXGUQa"
      }
    },
    {
      "cell_type": "code",
      "source": [
        "explained = pca_scratch.explained_variance_\n",
        "plt.bar(range(1, len(explained)+1), explained / np.sum(explained))\n",
        "plt.title(\"Explained Variance Ratio (Custom PCA)\")\n",
        "plt.xlabel(\"Principal Components\")\n",
        "plt.ylabel(\"Ratio of Variance Explained\")\n",
        "plt.grid(True)\n",
        "plt.show()"
      ],
      "metadata": {
        "id": "iMsGZoDKGZpO"
      },
      "execution_count": null,
      "outputs": []
    },
    {
      "cell_type": "markdown",
      "source": [
        "**## 4. Apply scikit-learn PCA for Comparison\n",
        "**"
      ],
      "metadata": {
        "id": "v_8TEpGpGhK5"
      }
    },
    {
      "cell_type": "code",
      "source": [
        "pca_sklearn = SklearnPCA(n_components=2)\n",
        "x_train_skpca = pca_sklearn.fit_transform(x_train_sd)"
      ],
      "metadata": {
        "id": "CYT5UrcuGi_T"
      },
      "execution_count": null,
      "outputs": []
    },
    {
      "cell_type": "markdown",
      "source": [
        "**## 5. Visualize the Projections\n",
        "Let's compare how well both PCA methods separate the wine classes in 2D space.\n",
        "**"
      ],
      "metadata": {
        "id": "6HEp-3dTGmEn"
      }
    },
    {
      "cell_type": "code",
      "source": [
        "fig, axes = plt.subplots(1, 2, figsize=(12, 5))\n",
        "colors = ['red', 'green', 'blue']\n",
        "labels = ['Class 0', 'Class 1', 'Class 2']\n",
        "\n",
        "# Custom PCA plot\n",
        "for i, color in zip(np.unique(y_train), colors):\n",
        "    axes[0].scatter(x_train_pca[y_train == i, 0], x_train_pca[y_train == i, 1],\n",
        "                    color=color, label=labels[i])\n",
        "axes[0].set_title(\"Custom PCA\")\n",
        "axes[0].legend()\n",
        "\n",
        "# Sklearn PCA plot\n",
        "for i, color in zip(np.unique(y_train), colors):\n",
        "    axes[1].scatter(x_train_skpca[y_train == i, 0], x_train_skpca[y_train == i, 1],\n",
        "                    color=color, label=labels[i])\n",
        "axes[1].set_title(\"Sklearn PCA\")\n",
        "axes[1].legend()\n",
        "\n",
        "plt.suptitle(\"PCA Comparison: Custom vs Sklearn\")\n",
        "plt.tight_layout()\n",
        "plt.show()"
      ],
      "metadata": {
        "id": "yJGO57H7Gp5F"
      },
      "execution_count": null,
      "outputs": []
    },
    {
      "cell_type": "markdown",
      "source": [
        "## 🧩 Conclusion\n",
        "\n",
        "- Both PCA implementations successfully reduce the data to 2 dimensions.\n",
        "- The custom implementation captures the variance and clusters well, comparable to `scikit-learn`.\n",
        "- This validates our eigenvector-based method against industry-standard libraries.\n"
      ],
      "metadata": {
        "id": "U9bvL5slGudl"
      }
    },
    {
      "cell_type": "code",
      "source": [],
      "metadata": {
        "id": "gxxnipJ0G0LM"
      },
      "execution_count": null,
      "outputs": []
    }
  ]
}