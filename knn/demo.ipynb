{
  "nbformat": 4,
  "nbformat_minor": 0,
  "metadata": {
    "colab": {
      "provenance": []
    },
    "kernelspec": {
      "name": "python3",
      "display_name": "Python 3"
    },
    "language_info": {
      "name": "python"
    }
  },
  "cells": [
    {
      "cell_type": "markdown",
      "source": [
        "# Demo: Custom KNN Classifier (NumPy)\n",
        "\n",
        "This notebook demonstrates the usage of a K-Nearest Neighbors (KNN) classifier built from scratch using NumPy.  \n",
        "We'll compare it against scikit-learn's implementation on the Breast Cancer dataset.\n",
        "\n",
        "---\n",
        "\n",
        "## 1. Import Libraries and Load Data\n"
      ],
      "metadata": {
        "id": "CI7vtR6EAG11"
      }
    },
    {
      "cell_type": "code",
      "source": [
        "from knn import KNNClassifier\n",
        "from sklearn.datasets import load_breast_cancer\n",
        "from sklearn.model_selection import train_test_split\n",
        "from sklearn.preprocessing import StandardScaler\n",
        "from sklearn.neighbors import KNeighborsClassifier"
      ],
      "metadata": {
        "id": "Q3JCyjbRALQD"
      },
      "execution_count": null,
      "outputs": []
    },
    {
      "cell_type": "markdown",
      "source": [
        "**## 2. Preprocess and Split**"
      ],
      "metadata": {
        "id": "BFUHRaxEAWVm"
      }
    },
    {
      "cell_type": "code",
      "source": [
        "X, y = load_breast_cancer(return_X_y=True)\n",
        "x_train, x_test, y_train, y_test = train_test_split(X, y, test_size=0.2, stratify=y, random_state=42)\n",
        "\n",
        "scaler = StandardScaler()\n",
        "x_train = scaler.fit_transform(x_train)\n",
        "x_test = scaler.transform(x_test)"
      ],
      "metadata": {
        "id": "FSmwT-SNAZGB"
      },
      "execution_count": null,
      "outputs": []
    },
    {
      "cell_type": "markdown",
      "source": [
        "**## 3. Train Custom and scikit-learn KNN**"
      ],
      "metadata": {
        "id": "ZOxg_7xYAflo"
      }
    },
    {
      "cell_type": "code",
      "source": [
        "custom_knn = KNNClassifier(n_neighbors=3, metric='euclidean')\n",
        "custom_knn.fit(x_train, y_train)\n",
        "\n",
        "sklearn_knn = KNeighborsClassifier(n_neighbors=3, metric='euclidean')\n",
        "sklearn_knn.fit(x_train, y_train)"
      ],
      "metadata": {
        "id": "-UNO6t9cAcR9"
      },
      "execution_count": null,
      "outputs": []
    },
    {
      "cell_type": "markdown",
      "source": [
        "**## 4. Evaluate and Compare**"
      ],
      "metadata": {
        "id": "hdGapdUJAkgX"
      }
    },
    {
      "cell_type": "code",
      "source": [
        "print(f\"Custom KNN       → Train: {custom_knn.score(x_train, y_train):.4f}, Test: {custom_knn.score(x_test, y_test):.4f}\")\n",
        "print(f\"scikit-learn KNN → Train: {sklearn_knn.score(x_train, y_train):.4f}, Test: {sklearn_knn.score(x_test, y_test):.4f}\")"
      ],
      "metadata": {
        "id": "zHiEltpHAo4J"
      },
      "execution_count": null,
      "outputs": []
    }
  ]
}