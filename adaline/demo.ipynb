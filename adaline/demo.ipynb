{
  "nbformat": 4,
  "nbformat_minor": 0,
  "metadata": {
    "colab": {
      "provenance": []
    },
    "kernelspec": {
      "name": "python3",
      "display_name": "Python 3"
    },
    "language_info": {
      "name": "python"
    }
  },
  "cells": [
    {
      "cell_type": "markdown",
      "source": [
        "**This notebook compares both AdalineGD and AdalineSGD on the Iris dataset with visualizations.**"
      ],
      "metadata": {
        "id": "lrop--7wy25u"
      }
    },
    {
      "cell_type": "code",
      "source": [
        "# Adaline: GD vs SGD on Iris Dataset\n",
        "\n",
        "import numpy as np\n",
        "import matplotlib.pyplot as plt\n",
        "from sklearn.datasets import load_iris\n",
        "from sklearn.preprocessing import StandardScaler\n",
        "\n",
        "from adaline_gd import AdalineGD\n",
        "from adaline_sgd import AdalineSGD\n",
        "from utils import plot_decision_region\n",
        "\n",
        "# Load binary class subset of Iris (Setosa vs Versicolor)\n",
        "iris = load_iris()\n",
        "mask = (iris.target == 0) | (iris.target == 1)\n",
        "X = iris.data[mask][:, [0, 2]]  # sepal length, petal length\n",
        "y = iris.target[mask]\n",
        "\n",
        "# Standardize inputs\n",
        "scaler = StandardScaler()\n",
        "X_std = scaler.fit_transform(X)\n",
        "\n",
        "# Shuffle\n",
        "perm = np.random.permutation(len(X_std))\n",
        "X_std, y = X_std[perm], y[perm]\n",
        "\n",
        "# Adaline with Batch GD\n",
        "model_gd = AdalineGD(eta=0.01, n_iter=15, random_state=1)\n",
        "model_gd.fit(X_std, y)\n",
        "\n",
        "# Adaline with SGD\n",
        "model_sgd = AdalineSGD(eta=0.01, n_iter=15, random_state=1)\n",
        "model_sgd.fit(X_std, y)\n",
        "\n",
        "# Plot decision boundaries\n",
        "plt.figure(figsize=(12, 5))\n",
        "\n",
        "plt.subplot(1, 2, 1)\n",
        "plot_decision_region(X_std, y, model_gd)\n",
        "plt.title(\"Adaline - Batch Gradient Descent\")\n",
        "plt.xlabel(\"Sepal Length (standardized)\")\n",
        "plt.ylabel(\"Petal Length (standardized)\")\n",
        "\n",
        "plt.subplot(1, 2, 2)\n",
        "plot_decision_region(X_std, y, model_sgd)\n",
        "plt.title(\"Adaline - Stochastic Gradient Descent\")\n",
        "plt.xlabel(\"Sepal Length (standardized)\")\n",
        "plt.ylabel(\"Petal Length (standardized)\")\n",
        "\n",
        "plt.tight_layout()\n",
        "plt.show()\n",
        "\n",
        "# Plot loss over epochs\n",
        "plt.figure(figsize=(10, 4))\n",
        "\n",
        "plt.plot(model_gd.losses_, label=\"GD\", marker=\"o\")\n",
        "plt.plot(model_sgd.losses_, label=\"SGD\", marker=\"s\")\n",
        "plt.title(\"Loss Curve Over Epochs\")\n",
        "plt.xlabel(\"Epoch\")\n",
        "plt.ylabel(\"MSE\")\n",
        "plt.legend()\n",
        "plt.grid(True)\n",
        "plt.tight_layout()\n",
        "plt.show()\n"
      ],
      "metadata": {
        "id": "XS669a5lyzUC"
      },
      "execution_count": null,
      "outputs": []
    }
  ]
}