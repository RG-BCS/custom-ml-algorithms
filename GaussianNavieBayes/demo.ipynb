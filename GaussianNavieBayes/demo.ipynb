{
  "nbformat": 4,
  "nbformat_minor": 0,
  "metadata": {
    "colab": {
      "provenance": []
    },
    "kernelspec": {
      "name": "python3",
      "display_name": "Python 3"
    },
    "language_info": {
      "name": "python"
    }
  },
  "cells": [
    {
      "cell_type": "markdown",
      "source": [
        "**# Custom Gaussian Naive Bayes Classifier (Binary)\n",
        "\n",
        "This notebook demonstrates a from-scratch implementation of the **Gaussian Naive Bayes** algorithm for **binary classification**, tested on the **Breast Cancer Wisconsin** dataset.\n",
        "\n",
        "We'll compare the custom model's performance against Scikit-learn's implementation.\n",
        "\n",
        "---\n",
        "**"
      ],
      "metadata": {
        "id": "c2yUAi6wmXr3"
      }
    },
    {
      "cell_type": "code",
      "source": [
        "# Imports\n",
        "import numpy as np\n",
        "from sklearn.datasets import load_breast_cancer\n",
        "from sklearn.model_selection import train_test_split\n",
        "from sklearn.preprocessing import StandardScaler\n",
        "from sklearn.naive_bayes import GaussianNB as SklearnGNB\n",
        "\n",
        "from gaussian_nb import GaussianNaiveBayes_\n"
      ],
      "metadata": {
        "id": "QQH_lHbSmesW"
      },
      "execution_count": 2,
      "outputs": []
    },
    {
      "cell_type": "markdown",
      "source": [
        "*## Step 1: Load and Prepare the Dataset\n",
        "\n",
        "We use the breast cancer dataset from `sklearn.datasets`, normalize the features, and split the data into training and testing sets.\n",
        "***"
      ],
      "metadata": {
        "id": "ZWrff8Numpn1"
      }
    },
    {
      "cell_type": "code",
      "source": [
        "# Load dataset\n",
        "cancer = load_breast_cancer()\n",
        "X, y = cancer.data, cancer.target\n",
        "\n",
        "# Split data\n",
        "x_train, x_test, y_train, y_test = train_test_split(X, y, test_size=0.2, stratify=y, random_state=42)\n",
        "\n",
        "# Scale features\n",
        "scaler = StandardScaler()\n",
        "x_train_sc = scaler.fit_transform(x_train)\n",
        "x_test_sc = scaler.transform(x_test)"
      ],
      "metadata": {
        "id": "up6pr_Y3mjbz"
      },
      "execution_count": null,
      "outputs": []
    },
    {
      "cell_type": "markdown",
      "source": [
        "**## Step 2: Train Both Models\n",
        "\n",
        "We'll train both the custom GNB and Scikit-learn’s GNB for side-by-side comparison.\n",
        "**"
      ],
      "metadata": {
        "id": "zDYWPIEhm0gB"
      }
    },
    {
      "cell_type": "code",
      "source": [
        "# Instantiate and train models\n",
        "gnb = GaussianNaiveBayes_()\n",
        "sk_gnb = SklearnGNB()\n",
        "\n",
        "gnb.fit(x_train_sc, y_train)\n",
        "sk_gnb.fit(x_train_sc, y_train)"
      ],
      "metadata": {
        "id": "XEYn6kzAm2n6"
      },
      "execution_count": null,
      "outputs": []
    },
    {
      "cell_type": "markdown",
      "source": [
        "**## Step 3: Evaluate Accuracy\n",
        "\n",
        "We now compare training and test accuracy between the custom and Scikit-learn versions.\n",
        "**"
      ],
      "metadata": {
        "id": "TFDuZ5RKm9Hd"
      }
    },
    {
      "cell_type": "code",
      "source": [
        "# Accuracy comparison\n",
        "print(f\"Train Accuracy -> Custom GNB: {gnb.score(x_train_sc, y_train):.4f} | Sklearn GNB: {sk_gnb.score(x_train_sc, y_train):.4f}\")\n",
        "print(f\"Test Accuracy  -> Custom GNB: {gnb.score(x_test_sc, y_test):.4f} | Sklearn GNB: {sk_gnb.score(x_test_sc, y_test):.4f}\")"
      ],
      "metadata": {
        "id": "mcLEwCa7m6PP"
      },
      "execution_count": null,
      "outputs": []
    }
  ]
}