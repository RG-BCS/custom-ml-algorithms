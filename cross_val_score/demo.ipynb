{
  "nbformat": 4,
  "nbformat_minor": 0,
  "metadata": {
    "colab": {
      "provenance": []
    },
    "kernelspec": {
      "name": "python3",
      "display_name": "Python 3"
    },
    "language_info": {
      "name": "python"
    }
  },
  "cells": [
    {
      "cell_type": "markdown",
      "source": [
        "# Cross-Validation from Scratch\n",
        "\n",
        "This notebook demonstrates a custom implementation of k-fold cross-validation supporting multiple scoring metrics, comparing it with `scikit-learn`'s implementation.\n",
        "\n",
        "---\n",
        "\n",
        "## 1. Load Dataset and Scale Features"
      ],
      "metadata": {
        "id": "yu9O-39jJspz"
      }
    },
    {
      "cell_type": "code",
      "source": [
        "from sklearn.datasets import load_breast_cancer\n",
        "from sklearn.preprocessing import StandardScaler\n",
        "X, y = load_breast_cancer(return_X_y=True)\n",
        "\n",
        "scaler = StandardScaler()\n",
        "X_scaled = scaler.fit_transform(X)"
      ],
      "metadata": {
        "id": "LUBYp_kUJu6s"
      },
      "execution_count": null,
      "outputs": []
    },
    {
      "cell_type": "markdown",
      "source": [
        "**## 2. Define Logistic Regression Model**"
      ],
      "metadata": {
        "id": "tkwuJ9FsJ2G_"
      }
    },
    {
      "cell_type": "code",
      "source": [
        "from sklearn.linear_model import LogisticRegression\n",
        "clf = LogisticRegression(max_iter=500)"
      ],
      "metadata": {
        "id": "3qU91AD4J7LS"
      },
      "execution_count": null,
      "outputs": []
    },
    {
      "cell_type": "markdown",
      "source": [
        "**## 3. Run Custom Cross-Validation with F1-score**"
      ],
      "metadata": {
        "id": "Sd2s5XjyJ9t2"
      }
    },
    {
      "cell_type": "code",
      "source": [
        "from cross_val_score import cross_val_score\n",
        "scores = cross_val_score(clf, X_scaled, y, cv=5, scoring='f1-score', random_state=42)\n",
        "print(f\"Custom CV F1-scores: {scores}\")\n",
        "print(f\"Mean F1-score: {scores.mean():.4f}\")"
      ],
      "metadata": {
        "id": "i5QMSVAmKBbT"
      },
      "execution_count": null,
      "outputs": []
    },
    {
      "cell_type": "markdown",
      "source": [
        "**## 4. Run Scikit-Learn Cross-Validation for Comparison**"
      ],
      "metadata": {
        "id": "2g0VKvM0KI73"
      }
    },
    {
      "cell_type": "code",
      "source": [
        "from sklearn.model_selection import cross_val_score as sklearn_cv_score\n",
        "scores_sk = sklearn_cv_score(clf, X_scaled, y, cv=5, scoring='f1')\n",
        "print(f\"Sklearn CV F1-scores: {scores_sk}\")\n",
        "print(f\"Mean F1-score: {scores_sk.mean():.4f}\")"
      ],
      "metadata": {
        "id": "kaICTV0MKMzB"
      },
      "execution_count": null,
      "outputs": []
    },
    {
      "cell_type": "markdown",
      "source": [
        "## Conclusion\n",
        "\n",
        "The custom cross-validation function produces similar results to `scikit-learn`’s, demonstrating correctness and usability.\n"
      ],
      "metadata": {
        "id": "9XToLgc4KTV0"
      }
    },
    {
      "cell_type": "code",
      "source": [],
      "metadata": {
        "id": "y-HGlqVnKXOB"
      },
      "execution_count": null,
      "outputs": []
    }
  ]
}